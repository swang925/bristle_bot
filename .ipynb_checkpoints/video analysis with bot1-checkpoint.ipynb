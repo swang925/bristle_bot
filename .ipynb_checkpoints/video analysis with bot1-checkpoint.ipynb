{
 "cells": [
  {
   "cell_type": "code",
   "execution_count": null,
   "id": "e4cb9929",
   "metadata": {},
   "outputs": [],
   "source": [
    "import cv2 as cv\n",
    "import os\n",
    "\n",
    "#Extract frames from video\n",
    "bot1 = cv.VideoCapture(\"bot1.mp4\")\n",
    "\n",
    "try:\n",
    "    #Create data folder\n",
    "    if not os.path.exists('data'):\n",
    "        os.makedirs('data')\n",
    "except OSError:\n",
    "    print('Error: creating directory of frames of the video')\n",
    "    \n",
    "currentframe = 0\n",
    "\n",
    "while True:\n",
    "    ret,frame = bot1.read()\n",
    "    if ret:\n",
    "        # if not done reading, keep reading\n",
    "        name = './data/frame'+ str(currentframe)+'.jpg'\n",
    "        print('Creating...'+name)\n",
    "        \n",
    "        #writing the extracted images\n",
    "        cv.imwrite(name,frame)\n",
    "        \n",
    "        currentframe += 1\n",
    "    else:\n",
    "        break\n",
    "\n",
    "#Release all space and windows once done\n",
    "bot1.release()\n",
    "cv.destroyAllWindows()"
   ]
  },
  {
   "cell_type": "code",
   "execution_count": 5,
   "id": "042e7cfa",
   "metadata": {},
   "outputs": [],
   "source": [
    "#Get Orientation of bbot\n",
    "import numpy as np\n",
    "import cv2 as cv\n",
    "\n",
    "#Read one frame and crop of bbot image in grey\n",
    "sample_frame = cv.imread(\"./data/frame4.jpg\", 0)\n",
    "template = cv.imread('bot1_template.jpg',0)\n",
    "\n",
    "\n",
    "#Write separate sample frame to play with\n",
    "cv.imwrite(\"./sample_frame.jpg\", sample_frame)\n",
    "cs.destroyAllWindows()\n",
    "gray = cv.imread(\"./data/sample_frame.jpg\")\n",
    "\n",
    "_,bw = cv.threshold(gray, 50,255,cv.THRESH_BINARY | cv.THRESH_OTSU)\n",
    "\n",
    "#Find the contours of sample frame\n",
    "_,contours,_ = cv.findContours(sample_Frame,cv.RETR_LIST, CV.CHAIN_APPROX_NONE)\n",
    "\n",
    "for i, c in enumerate(contours):\n",
    "    # Calculate the area of each contour\n",
    "    area = cv.contourArea(c)\n",
    "    # Ignore contours that are too small or too large\n",
    "    if area < 1e2 or 1e3 < area:\n",
    "        continue\n",
    "# Draw each contour only for visualisation purposes\n",
    "cv.drawContours(sample_frame, contours, i, (0, 0, 255), 2)"
   ]
  }
 ],
 "metadata": {
  "kernelspec": {
   "display_name": "Python 3 (ipykernel)",
   "language": "python",
   "name": "python3"
  },
  "language_info": {
   "codemirror_mode": {
    "name": "ipython",
    "version": 3
   },
   "file_extension": ".py",
   "mimetype": "text/x-python",
   "name": "python",
   "nbconvert_exporter": "python",
   "pygments_lexer": "ipython3",
   "version": "3.10.10"
  }
 },
 "nbformat": 4,
 "nbformat_minor": 5
}
