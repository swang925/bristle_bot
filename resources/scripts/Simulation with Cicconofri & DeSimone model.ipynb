{
 "cells": [
  {
   "cell_type": "code",
   "execution_count": null,
   "id": "1c5f7bb9",
   "metadata": {},
   "outputs": [],
   "source": [
    "import math\n",
    "from matplotlib import pyplot as plt\n",
    "import np\n",
    "\n",
    "##THIS IS FOR BOT2:\n",
    "length = 43.6   # millimeter\n",
    "width = 13.78   # millimeter\n",
    "mass = 7.17     # gram"
   ]
  },
  {
   "cell_type": "code",
   "execution_count": null,
   "id": "aa792918",
   "metadata": {},
   "outputs": [],
   "source": []
  }
 ],
 "metadata": {
  "kernelspec": {
   "display_name": "Python 3 (ipykernel)",
   "language": "python",
   "name": "python3"
  },
  "language_info": {
   "codemirror_mode": {
    "name": "ipython",
    "version": 3
   },
   "file_extension": ".py",
   "mimetype": "text/x-python",
   "name": "python",
   "nbconvert_exporter": "python",
   "pygments_lexer": "ipython3",
   "version": "3.10.11"
  }
 },
 "nbformat": 4,
 "nbformat_minor": 5
}
